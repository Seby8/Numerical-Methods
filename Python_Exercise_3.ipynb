{
  "nbformat": 4,
  "nbformat_minor": 0,
  "metadata": {
    "colab": {
      "name": "Python Exercise 3.ipynb",
      "provenance": [],
      "authorship_tag": "ABX9TyNBM2fqSbRdxTP76U6XmAzY",
      "include_colab_link": true
    },
    "kernelspec": {
      "name": "python3",
      "display_name": "Python 3"
    },
    "language_info": {
      "name": "python"
    }
  },
  "cells": [
    {
      "cell_type": "markdown",
      "metadata": {
        "id": "view-in-github",
        "colab_type": "text"
      },
      "source": [
        "<a href=\"https://colab.research.google.com/github/Seby8/Numerical_Methods/blob/main/Python_Exercise_3.ipynb\" target=\"_parent\"><img src=\"https://colab.research.google.com/assets/colab-badge.svg\" alt=\"Open In Colab\"/></a>"
      ]
    },
    {
      "cell_type": "markdown",
      "metadata": {
        "id": "hZdcwMwqglYr"
      },
      "source": [
        "#Determinants of Matrix using numpy.linalg.det"
      ]
    },
    {
      "cell_type": "code",
      "metadata": {
        "colab": {
          "base_uri": "https://localhost:8080/"
        },
        "id": "d4yGu7NcgVTX",
        "outputId": "ed25e678-7638-4f2e-f53b-458b129308d5"
      },
      "source": [
        "import numpy as np\n",
        "A = np.array([\n",
        "              [1, 2, -1],\n",
        "              [4, 6, -2],\n",
        "              [-1, 3, 3]\n",
        "])\n",
        "\n",
        "print(A)\n",
        "print(np.linalg.det(A))\n",
        "print(round(np.linalg.det(A)))"
      ],
      "execution_count": 1,
      "outputs": [
        {
          "output_type": "stream",
          "name": "stdout",
          "text": [
            "[[ 1  2 -1]\n",
            " [ 4  6 -2]\n",
            " [-1  3  3]]\n",
            "-13.999999999999996\n",
            "-14\n"
          ]
        }
      ]
    },
    {
      "cell_type": "code",
      "metadata": {
        "id": "rR5d_0R0iWlS"
      },
      "source": [
        ""
      ],
      "execution_count": null,
      "outputs": []
    }
  ]
}
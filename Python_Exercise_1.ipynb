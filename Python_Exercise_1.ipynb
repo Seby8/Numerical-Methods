{
  "nbformat": 4,
  "nbformat_minor": 0,
  "metadata": {
    "colab": {
      "name": "Python_Exercise_1.ipynb",
      "provenance": [],
      "collapsed_sections": [],
      "authorship_tag": "ABX9TyO5qb5AqKzGTlnP6nShS8vc",
      "include_colab_link": true
    },
    "kernelspec": {
      "name": "python3",
      "display_name": "Python 3"
    },
    "language_info": {
      "name": "python"
    }
  },
  "cells": [
    {
      "cell_type": "markdown",
      "metadata": {
        "id": "view-in-github",
        "colab_type": "text"
      },
      "source": [
        "<a href=\"https://colab.research.google.com/github/Seby8/Numerical_Methods/blob/main/Python_Exercise_1.ipynb\" target=\"_parent\"><img src=\"https://colab.research.google.com/assets/colab-badge.svg\" alt=\"Open In Colab\"/></a>"
      ]
    },
    {
      "cell_type": "code",
      "metadata": {
        "id": "UYJM6VCjYeki"
      },
      "source": [
        "name = input(\"Name: \")\n",
        "course = input(\"Course: \")\n",
        "prelim_grade = int(input(\"Prelim Grade: \"))\n",
        "midterm_grade = int(input(\"Midterm Grade: \"))\n",
        "final_grade = int(input(\"Final Grade: \"))\n",
        "semestral_grade = .3 * prelim_grade + .3 * midterm_grade + .4 * final_grade\n",
        "print(\"Semestral Grade:\",semestral_grade)"
      ],
      "execution_count": null,
      "outputs": []
    }
  ]
}
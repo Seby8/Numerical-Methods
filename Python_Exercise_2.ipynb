{
  "nbformat": 4,
  "nbformat_minor": 0,
  "metadata": {
    "colab": {
      "name": "Python Exercise 2.ipynb",
      "provenance": [],
      "authorship_tag": "ABX9TyMEWxkM5iHPR+69Yy7J+ihL",
      "include_colab_link": true
    },
    "kernelspec": {
      "name": "python3",
      "display_name": "Python 3"
    },
    "language_info": {
      "name": "python"
    }
  },
  "cells": [
    {
      "cell_type": "markdown",
      "metadata": {
        "id": "view-in-github",
        "colab_type": "text"
      },
      "source": [
        "<a href=\"https://colab.research.google.com/github/Seby8/Numerical_Methods/blob/main/Python_Exercise_2.ipynb\" target=\"_parent\"><img src=\"https://colab.research.google.com/assets/colab-badge.svg\" alt=\"Open In Colab\"/></a>"
      ]
    },
    {
      "cell_type": "markdown",
      "metadata": {
        "id": "n--WXUrmcPoM"
      },
      "source": [
        "#Matrix and Its Operations"
      ]
    },
    {
      "cell_type": "code",
      "metadata": {
        "colab": {
          "base_uri": "https://localhost:8080/"
        },
        "id": "iyRdJF50cy5b",
        "outputId": "600f96ce-ce24-4e74-efcc-feef42159be9"
      },
      "source": [
        "import numpy as np\n",
        "\n",
        "a = np.array([\n",
        "              [-5,0],\n",
        "              [4,1]\n",
        "])\n",
        "\n",
        "b = np.array([\n",
        "              [6,-3],\n",
        "              [2,3]\n",
        "])\n",
        "\n",
        "sum = a + b\n",
        "difference1 = b - a\n",
        "difference2 = a - b\n",
        "print(f'Using Sum:\\n{sum}')\n",
        "print(f'Using Difference 1:\\n{difference1}')\n",
        "print(f'Using Difference 2:\\n{difference2}')"
      ],
      "execution_count": 8,
      "outputs": [
        {
          "output_type": "stream",
          "name": "stdout",
          "text": [
            "Using Sum:\n",
            "[[ 1 -3]\n",
            " [ 6  4]]\n",
            "Using Difference 1:\n",
            "[[11 -3]\n",
            " [-2  2]]\n",
            "Using Difference 2:\n",
            "[[-11   3]\n",
            " [  2  -2]]\n"
          ]
        }
      ]
    }
  ]
}
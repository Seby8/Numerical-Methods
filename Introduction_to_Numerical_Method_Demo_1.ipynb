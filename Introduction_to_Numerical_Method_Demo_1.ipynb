{
  "nbformat": 4,
  "nbformat_minor": 0,
  "metadata": {
    "colab": {
      "name": "Introduction_to_Numerical_Method: Demo 1.ipynb",
      "provenance": [],
      "authorship_tag": "ABX9TyOAzRwCGMYKB+r1YpaMUUi1",
      "include_colab_link": true
    },
    "kernelspec": {
      "name": "python3",
      "display_name": "Python 3"
    },
    "language_info": {
      "name": "python"
    }
  },
  "cells": [
    {
      "cell_type": "markdown",
      "metadata": {
        "id": "view-in-github",
        "colab_type": "text"
      },
      "source": [
        "<a href=\"https://colab.research.google.com/github/Seby8/Numerical_Methods/blob/main/Introduction_to_Numerical_Method_Demo_1.ipynb\" target=\"_parent\"><img src=\"https://colab.research.google.com/assets/colab-badge.svg\" alt=\"Open In Colab\"/></a>"
      ]
    },
    {
      "cell_type": "code",
      "metadata": {
        "colab": {
          "base_uri": "https://localhost:8080/"
        },
        "id": "lk1iX3mxR234",
        "outputId": "79723065-9768-4d67-abe1-156be62851f4"
      },
      "source": [
        "a = \"Jake\"\n",
        "a = int(5)\n",
        "print(a)"
      ],
      "execution_count": null,
      "outputs": [
        {
          "output_type": "stream",
          "text": [
            "5\n"
          ],
          "name": "stdout"
        }
      ]
    },
    {
      "cell_type": "code",
      "metadata": {
        "colab": {
          "base_uri": "https://localhost:8080/"
        },
        "id": "jdAeLTRXOqAV",
        "outputId": "85fe2fd7-08ec-4f6d-e5a3-6efecc3378f4"
      },
      "source": [
        "x = 'enjoying'\n",
        "print('python programming is '+ x)"
      ],
      "execution_count": null,
      "outputs": [
        {
          "output_type": "stream",
          "text": [
            "python programming is enjoying\n"
          ],
          "name": "stdout"
        }
      ]
    },
    {
      "cell_type": "code",
      "metadata": {
        "colab": {
          "base_uri": "https://localhost:8080/"
        },
        "id": "Rsce0M4aTOmK",
        "outputId": "41ad3b84-677b-4dd2-b06a-0bbdd11ab23d"
      },
      "source": [
        "x = 5\n",
        "y = 3\n",
        "print(x + y)"
      ],
      "execution_count": null,
      "outputs": [
        {
          "output_type": "stream",
          "text": [
            "8\n"
          ],
          "name": "stdout"
        }
      ]
    },
    {
      "cell_type": "code",
      "metadata": {
        "colab": {
          "base_uri": "https://localhost:8080/"
        },
        "id": "CyhPubA0WNhz",
        "outputId": "1cdd76c1-2df2-415e-da93-ba359c069d81"
      },
      "source": [
        "x = 5\n",
        "y = 3\n",
        "sum = x + y\n",
        "sum"
      ],
      "execution_count": null,
      "outputs": [
        {
          "output_type": "execute_result",
          "data": {
            "text/plain": [
              "8"
            ]
          },
          "metadata": {},
          "execution_count": 10
        }
      ]
    },
    {
      "cell_type": "code",
      "metadata": {
        "colab": {
          "base_uri": "https://localhost:8080/"
        },
        "id": "0evo7NfQTaSH",
        "outputId": "58fad35a-d052-43a8-917f-9c593a863437"
      },
      "source": [
        "a,b,c = 0, -1, 6\n",
        "c%=2\n",
        "print(c)"
      ],
      "execution_count": null,
      "outputs": [
        {
          "output_type": "stream",
          "text": [
            "0\n"
          ],
          "name": "stdout"
        }
      ]
    },
    {
      "cell_type": "code",
      "metadata": {
        "colab": {
          "base_uri": "https://localhost:8080/"
        },
        "id": "RsUnCqlXUTZN",
        "outputId": "277d8304-5db9-41c6-fe9d-cd20f8144680"
      },
      "source": [
        "x = 5\n",
        "y = 8\n",
        "\n",
        "x>3 and y>7"
      ],
      "execution_count": null,
      "outputs": [
        {
          "output_type": "execute_result",
          "data": {
            "text/plain": [
              "True"
            ]
          },
          "metadata": {},
          "execution_count": 9
        }
      ]
    }
  ]
}